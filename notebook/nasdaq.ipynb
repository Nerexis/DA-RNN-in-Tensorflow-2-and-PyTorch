{
 "cells": [
  {
   "cell_type": "code",
   "execution_count": 1,
   "id": "soviet-absolute",
   "metadata": {},
   "outputs": [],
   "source": [
    "from pathlib import Path\n",
    "import os\n",
    "import sys\n",
    "\n",
    "dirname = Path(os.path.abspath(''))\n",
    "root = dirname.parent\n",
    "\n",
    "sys.path.insert(0, str(root))"
   ]
  },
  {
   "cell_type": "code",
   "execution_count": 2,
   "id": "according-rotation",
   "metadata": {},
   "outputs": [],
   "source": [
    "BATCH_SIZE = 64\n",
    "WINDOW_SIZE = 10\n",
    "ENCODER_HIDDEN_STATES = 64\n",
    "DECODER_HIDDEN_STATES = 64\n",
    "\n",
    "Y_DIM = 1\n",
    "\n",
    "DATA = 'nasdaq100_padding.csv'\n",
    "\n",
    "VALIDATION_RATIO = 0.2\n",
    "\n",
    "EPOCHS = 100"
   ]
  },
  {
   "cell_type": "code",
   "execution_count": 3,
   "id": "authentic-likelihood",
   "metadata": {},
   "outputs": [
    {
     "name": "stdout",
     "output_type": "stream",
     "text": [
      "(10000, 82)\n"
     ]
    }
   ],
   "source": [
    "import numpy as np\n",
    "import pandas as pd\n",
    "from typing import Tuple\n",
    "\n",
    "\n",
    "def read_data(input_path: Path) -> Tuple[np.ndarray, np.ndarray]:\n",
    "    \"\"\"\n",
    "    Read nasdaq stocks data.\n",
    "\n",
    "    Args:\n",
    "        input_path (str): directory to nasdaq dataset.\n",
    "\n",
    "    Returns:\n",
    "        X (np.ndarray): features.\n",
    "        y (np.ndarray): ground truth.\n",
    "    \"\"\"\n",
    "    df = pd.read_csv(input_path).iloc[:10000]\n",
    "\n",
    "    X = df.loc[:, [x for x in df.columns if x != 'NDX']].values\n",
    "\n",
    "    y = np.array(df['NDX'])\n",
    "\n",
    "    return X, y\n",
    "\n",
    "X, Y = read_data(DATA)\n",
    "\n",
    "Y = Y[:, None]\n",
    "\n",
    "features = np.concatenate((X, Y), axis=1)\n",
    "\n",
    "print(features.shape)"
   ]
  },
  {
   "cell_type": "code",
   "execution_count": 4,
   "id": "offensive-baptist",
   "metadata": {},
   "outputs": [
    {
     "name": "stdout",
     "output_type": "stream",
     "text": [
      "training length 8000\n",
      "validation length 2000\n"
     ]
    }
   ],
   "source": [
    "def get_labels_from_features(features):\n",
    "    return features[WINDOW_SIZE - 1:, -Y_DIM:]\n",
    "\n",
    "\n",
    "def split_by_ratio(features):\n",
    "    length = len(features)\n",
    "    validation_length = int(VALIDATION_RATIO * length)\n",
    "    \n",
    "    return features[:-validation_length], features[-validation_length:]\n",
    "\n",
    "\n",
    "training_features, validation_features = split_by_ratio(features)\n",
    "\n",
    "print('training length', len(training_features))\n",
    "print('validation length', len(validation_features))"
   ]
  },
  {
   "cell_type": "code",
   "execution_count": 5,
   "id": "short-trader",
   "metadata": {},
   "outputs": [
    {
     "data": {
      "text/plain": [
       "<BatchDataset shapes: ((None, 10, 82), (None, 1)), types: (tf.float64, tf.float64)>"
      ]
     },
     "execution_count": 5,
     "metadata": {},
     "output_type": "execute_result"
    }
   ],
   "source": [
    "import tensorflow as tf\n",
    "from get_rolling_window import rolling_window\n",
    "\n",
    "train_ds = tf.data.Dataset.from_tensor_slices((\n",
    "    rolling_window(training_features, WINDOW_SIZE, 1), \n",
    "    get_labels_from_features(training_features)\n",
    ")).batch(BATCH_SIZE)\n",
    "\n",
    "val_ds = tf.data.Dataset.from_tensor_slices((\n",
    "    rolling_window(validation_features, WINDOW_SIZE, 1), \n",
    "    get_labels_from_features(validation_features)\n",
    ")).batch(BATCH_SIZE)\n",
    "\n",
    "train_ds"
   ]
  },
  {
   "cell_type": "code",
   "execution_count": 6,
   "id": "weekly-coating",
   "metadata": {},
   "outputs": [],
   "source": [
    "from da_rnn import DARNN\n",
    "from tensorflow.keras import Sequential\n",
    "from tensorflow.keras.layers import Reshape\n",
    "\n",
    "model = DARNN(\n",
    "    WINDOW_SIZE,\n",
    "    ENCODER_HIDDEN_STATES,\n",
    "    DECODER_HIDDEN_STATES,\n",
    "    Y_DIM\n",
    ")\n",
    "\n",
    "model.compile(\n",
    "    optimizer='adam',\n",
    "    loss='mse',\n",
    "    metrics=['accuracy', 'mae', 'mape']\n",
    ")"
   ]
  },
  {
   "cell_type": "code",
   "execution_count": 7,
   "id": "solid-cover",
   "metadata": {},
   "outputs": [
    {
     "name": "stdout",
     "output_type": "stream",
     "text": [
      "feature, label shape (64, 10, 82) (64, 1)\n",
      "prediction shape (64, 1, 1)\n"
     ]
    },
    {
     "data": {
      "text/plain": [
       "<tf.Tensor: shape=(1, 1, 1), dtype=float32, numpy=array([[[-1.2426933]]], dtype=float32)>"
      ]
     },
     "execution_count": 7,
     "metadata": {},
     "output_type": "execute_result"
    }
   ],
   "source": [
    "feature_batch, label_batch = next(iter(train_ds))\n",
    "\n",
    "print('feature, label shape', feature_batch.shape, label_batch.shape)\n",
    "\n",
    "print('prediction shape', model(feature_batch).shape)\n",
    "\n",
    "model(feature_batch[:1])"
   ]
  },
  {
   "cell_type": "code",
   "execution_count": null,
   "id": "preceding-citizenship",
   "metadata": {},
   "outputs": [
    {
     "name": "stdout",
     "output_type": "stream",
     "text": [
      "Epoch 1/100\n",
      "125/125 [==============================] - 32s 83ms/step - loss: 21917082.6667 - accuracy: 0.0000e+00 - mae: 4681.3647 - mape: 98.9850 - val_loss: 19302570.0000 - val_accuracy: 0.0000e+00 - val_mae: 4393.4375 - val_mape: 91.6812\n",
      "\n",
      "Epoch 00001: val_loss improved from inf to 19302570.00000, saving model to /Users/kael/Codes/ml/tensorflow-2-DA-RNN/notebook/checkpoint.hdf5\n",
      "Epoch 2/100\n",
      "125/125 [==============================] - ETA: 0s - loss: 17032228.6640 - accuracy: 0.0000e+00 - mae: 4123.8607 - mape: 87.2277"
     ]
    }
   ],
   "source": [
    "save_to = dirname / 'checkpoint.hdf5'\n",
    "\n",
    "history = model.fit(\n",
    "    train_ds,\n",
    "    validation_data=val_ds,\n",
    "    callbacks=[\n",
    "        # Save checkpoints on best validation loss\n",
    "        tf.keras.callbacks.ModelCheckpoint(\n",
    "            save_to,\n",
    "            monitor='val_loss',\n",
    "            save_best_only=True,\n",
    "            verbose=1\n",
    "        ),\n",
    "        # Stop early if the model overfits\n",
    "        tf.keras.callbacks.EarlyStopping(monitor='loss', patience=5)\n",
    "    ],\n",
    "    epochs=EPOCHS,\n",
    "    verbose=1\n",
    ")"
   ]
  },
  {
   "cell_type": "code",
   "execution_count": null,
   "id": "consecutive-currency",
   "metadata": {},
   "outputs": [],
   "source": [
    "import matplotlib.pyplot as plt\n",
    "\n",
    "\n",
    "def plot(keys, title='title', ylabel='y'):\n",
    "    for key in keys:\n",
    "        plt.plot(history.history[key])\n",
    "        plt.plot(history.history[key])\n",
    "        \n",
    "    plt.title(title)\n",
    "    plt.ylabel(ylabel)\n",
    "    plt.xlabel('epoch')\n",
    "    \n",
    "    plt.legend(keys, loc='upper left')\n",
    "    \n",
    "    plt.show()\n",
    "    \n",
    "plot(['loss', 'val_loss'], 'loss')\n",
    "plot(['accuracy', 'val_accuracy'], 'acc')\n"
   ]
  },
  {
   "cell_type": "code",
   "execution_count": null,
   "id": "fitting-celtic",
   "metadata": {},
   "outputs": [],
   "source": [
    "model(features)"
   ]
  }
 ],
 "metadata": {
  "kernelspec": {
   "display_name": "strategy",
   "language": "python",
   "name": "strategy"
  },
  "language_info": {
   "codemirror_mode": {
    "name": "ipython",
    "version": 3
   },
   "file_extension": ".py",
   "mimetype": "text/x-python",
   "name": "python",
   "nbconvert_exporter": "python",
   "pygments_lexer": "ipython3",
   "version": "3.8.5"
  }
 },
 "nbformat": 4,
 "nbformat_minor": 5
}
