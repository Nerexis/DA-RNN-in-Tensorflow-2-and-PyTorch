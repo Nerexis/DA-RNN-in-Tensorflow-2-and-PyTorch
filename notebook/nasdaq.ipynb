{
 "cells": [
  {
   "cell_type": "code",
   "execution_count": 1,
   "id": "recent-track",
   "metadata": {},
   "outputs": [],
   "source": [
    "from pathlib import Path\n",
    "import os\n",
    "import sys\n",
    "\n",
    "dirname = Path(os.path.abspath(''))\n",
    "root = dirname.parent\n",
    "\n",
    "sys.path.insert(0, str(root))"
   ]
  },
  {
   "cell_type": "code",
   "execution_count": 2,
   "id": "aboriginal-sacramento",
   "metadata": {},
   "outputs": [],
   "source": [
    "BATCH_SIZE = 64\n",
    "WINDOW_SIZE = 10\n",
    "ENCODER_HIDDEN_STATES = 64\n",
    "DECODER_HIDDEN_STATES = 64\n",
    "\n",
    "Y_DIM = 1\n",
    "\n",
    "DATA = 'nasdaq100_padding.csv'\n",
    "\n",
    "VALIDATION_RATIO = 0.2\n",
    "\n",
    "EPOCHS = 100"
   ]
  },
  {
   "cell_type": "code",
   "execution_count": 3,
   "id": "drawn-springfield",
   "metadata": {},
   "outputs": [
    {
     "name": "stdout",
     "output_type": "stream",
     "text": [
      "(10000, 82)\n"
     ]
    }
   ],
   "source": [
    "import numpy as np\n",
    "import pandas as pd\n",
    "from typing import Tuple\n",
    "\n",
    "\n",
    "def read_data(input_path: Path) -> Tuple[np.ndarray, np.ndarray]:\n",
    "    \"\"\"\n",
    "    Read nasdaq stocks data.\n",
    "\n",
    "    Args:\n",
    "        input_path (str): directory to nasdaq dataset.\n",
    "\n",
    "    Returns:\n",
    "        X (np.ndarray): features.\n",
    "        y (np.ndarray): ground truth.\n",
    "    \"\"\"\n",
    "    df = pd.read_csv(input_path).iloc[:10000]\n",
    "\n",
    "    X = df.loc[:, [x for x in df.columns if x != 'NDX']].values\n",
    "\n",
    "    y = np.array(df['NDX'])\n",
    "\n",
    "    return X, y\n",
    "\n",
    "X, Y = read_data(DATA)\n",
    "\n",
    "Y = Y[:, None]\n",
    "\n",
    "features = np.concatenate((X, Y), axis=1)\n",
    "\n",
    "print(features.shape)"
   ]
  },
  {
   "cell_type": "code",
   "execution_count": 4,
   "id": "knowing-spice",
   "metadata": {},
   "outputs": [
    {
     "name": "stdout",
     "output_type": "stream",
     "text": [
      "training length 8000\n",
      "validation length 2000\n"
     ]
    }
   ],
   "source": [
    "def get_labels_from_features(features):\n",
    "    return features[WINDOW_SIZE - 1:, -Y_DIM:]\n",
    "\n",
    "\n",
    "def split_by_ratio(features):\n",
    "    length = len(features)\n",
    "    validation_length = int(VALIDATION_RATIO * length)\n",
    "    \n",
    "    return features[:-validation_length], features[-validation_length:]\n",
    "\n",
    "\n",
    "training_features, validation_features = split_by_ratio(features)\n",
    "\n",
    "print('training length', len(training_features))\n",
    "print('validation length', len(validation_features))"
   ]
  },
  {
   "cell_type": "code",
   "execution_count": 5,
   "id": "excellent-christmas",
   "metadata": {},
   "outputs": [
    {
     "data": {
      "text/plain": [
       "<BatchDataset shapes: ((None, 10, 82), (None, 1)), types: (tf.float64, tf.float64)>"
      ]
     },
     "execution_count": 5,
     "metadata": {},
     "output_type": "execute_result"
    }
   ],
   "source": [
    "import tensorflow as tf\n",
    "from get_rolling_window import rolling_window\n",
    "\n",
    "train_ds = tf.data.Dataset.from_tensor_slices((\n",
    "    rolling_window(training_features, WINDOW_SIZE, 1), \n",
    "    get_labels_from_features(training_features)\n",
    ")).batch(BATCH_SIZE)\n",
    "\n",
    "val_ds = tf.data.Dataset.from_tensor_slices((\n",
    "    rolling_window(validation_features, WINDOW_SIZE, 1), \n",
    "    get_labels_from_features(validation_features)\n",
    ")).batch(BATCH_SIZE)\n",
    "\n",
    "train_ds"
   ]
  },
  {
   "cell_type": "code",
   "execution_count": 6,
   "id": "earned-speaker",
   "metadata": {},
   "outputs": [],
   "source": [
    "from da_rnn import DARNN\n",
    "from tensorflow.keras import Sequential\n",
    "from tensorflow.keras.layers import Reshape\n",
    "\n",
    "model = DARNN(\n",
    "    WINDOW_SIZE,\n",
    "    ENCODER_HIDDEN_STATES,\n",
    "    DECODER_HIDDEN_STATES,\n",
    "    Y_DIM\n",
    ")\n",
    "\n",
    "model.compile(\n",
    "    optimizer='adam',\n",
    "    loss='mse',\n",
    "    metrics=['accuracy', 'mae', 'mape']\n",
    ")"
   ]
  },
  {
   "cell_type": "code",
   "execution_count": 7,
   "id": "naval-superior",
   "metadata": {},
   "outputs": [
    {
     "name": "stdout",
     "output_type": "stream",
     "text": [
      "feature, label shape (64, 10, 82) (64, 1)\n",
      "prediction shape (64, 1, 1)\n"
     ]
    },
    {
     "data": {
      "text/plain": [
       "<tf.Tensor: shape=(1, 1, 1), dtype=float32, numpy=array([[[-1.275768]]], dtype=float32)>"
      ]
     },
     "execution_count": 7,
     "metadata": {},
     "output_type": "execute_result"
    }
   ],
   "source": [
    "feature_batch, label_batch = next(iter(train_ds))\n",
    "\n",
    "print('feature, label shape', feature_batch.shape, label_batch.shape)\n",
    "\n",
    "print('prediction shape', model(feature_batch).shape)\n",
    "\n",
    "model(feature_batch[:1])"
   ]
  },
  {
   "cell_type": "code",
   "execution_count": 8,
   "id": "center-blake",
   "metadata": {},
   "outputs": [
    {
     "name": "stdout",
     "output_type": "stream",
     "text": [
      "Epoch 1/100\n",
      "125/125 [==============================] - 34s 88ms/step - loss: 22009116.3016 - accuracy: 0.0000e+00 - mae: 4691.3106 - mape: 99.1919 - val_loss: 20503292.0000 - val_accuracy: 0.0000e+00 - val_mae: 4528.0259 - val_mape: 94.4898\n",
      "\n",
      "Epoch 00001: val_loss improved from inf to 20503292.00000, saving model to /Users/kael/Codes/ml/tensorflow-2-DA-RNN/notebook/checkpoint.hdf5\n",
      "Epoch 2/100\n",
      "125/125 [==============================] - 6s 45ms/step - loss: 18754333.2698 - accuracy: 0.0000e+00 - mae: 4329.5721 - mape: 91.5594 - val_loss: 15038743.0000 - val_accuracy: 0.0000e+00 - val_mae: 3877.9458 - val_mape: 80.9239\n",
      "\n",
      "Epoch 00002: val_loss improved from 20503292.00000 to 15038743.00000, saving model to /Users/kael/Codes/ml/tensorflow-2-DA-RNN/notebook/checkpoint.hdf5\n",
      "Epoch 3/100\n",
      "125/125 [==============================] - 6s 45ms/step - loss: 12979510.8889 - accuracy: 0.0000e+00 - mae: 3599.1232 - mape: 76.1273 - val_loss: 8686124.0000 - val_accuracy: 0.0000e+00 - val_mae: 2947.1765 - val_mape: 61.5006\n",
      "\n",
      "Epoch 00003: val_loss improved from 15038743.00000 to 8686124.00000, saving model to /Users/kael/Codes/ml/tensorflow-2-DA-RNN/notebook/checkpoint.hdf5\n",
      "Epoch 4/100\n",
      "125/125 [==============================] - 6s 47ms/step - loss: 6960456.8571 - accuracy: 0.0000e+00 - mae: 2631.6595 - mape: 55.6764 - val_loss: 3712738.5000 - val_accuracy: 0.0000e+00 - val_mae: 1926.7747 - val_mape: 40.2068\n",
      "\n",
      "Epoch 00004: val_loss improved from 8686124.00000 to 3712738.50000, saving model to /Users/kael/Codes/ml/tensorflow-2-DA-RNN/notebook/checkpoint.hdf5\n",
      "Epoch 5/100\n",
      "125/125 [==============================] - 6s 50ms/step - loss: 2689819.4940 - accuracy: 0.0000e+00 - mae: 1632.1084 - mape: 34.5375 - val_loss: 1094684.2500 - val_accuracy: 0.0000e+00 - val_mae: 1046.1390 - val_mape: 21.8297\n",
      "\n",
      "Epoch 00005: val_loss improved from 3712738.50000 to 1094684.25000, saving model to /Users/kael/Codes/ml/tensorflow-2-DA-RNN/notebook/checkpoint.hdf5\n",
      "Epoch 6/100\n",
      "125/125 [==============================] - 7s 54ms/step - loss: 683669.7054 - accuracy: 0.0000e+00 - mae: 821.1554 - mape: 17.3787 - val_loss: 215300.2188 - val_accuracy: 0.0000e+00 - val_mae: 463.7057 - val_mape: 9.6754\n",
      "\n",
      "Epoch 00006: val_loss improved from 1094684.25000 to 215300.21875, saving model to /Users/kael/Codes/ml/tensorflow-2-DA-RNN/notebook/checkpoint.hdf5\n",
      "Epoch 7/100\n",
      "125/125 [==============================] - 7s 55ms/step - loss: 102424.6855 - accuracy: 0.0000e+00 - mae: 318.3998 - mape: 6.7355 - val_loss: 30111.9668 - val_accuracy: 0.0000e+00 - val_mae: 172.7272 - val_mape: 3.6033\n",
      "\n",
      "Epoch 00007: val_loss improved from 215300.21875 to 30111.96680, saving model to /Users/kael/Codes/ml/tensorflow-2-DA-RNN/notebook/checkpoint.hdf5\n",
      "Epoch 8/100\n",
      "125/125 [==============================] - 7s 58ms/step - loss: 7393.5951 - accuracy: 0.0000e+00 - mae: 81.6513 - mape: 1.7213 - val_loss: 3828.5098 - val_accuracy: 0.0000e+00 - val_mae: 59.5923 - val_mape: 1.2424\n",
      "\n",
      "Epoch 00008: val_loss improved from 30111.96680 to 3828.50977, saving model to /Users/kael/Codes/ml/tensorflow-2-DA-RNN/notebook/checkpoint.hdf5\n",
      "Epoch 9/100\n",
      "125/125 [==============================] - 7s 59ms/step - loss: 1922.1089 - accuracy: 0.0000e+00 - mae: 37.1023 - mape: 0.7846 - val_loss: 819.5988 - val_accuracy: 0.0000e+00 - val_mae: 23.6897 - val_mape: 0.4932\n",
      "\n",
      "Epoch 00009: val_loss improved from 3828.50977 to 819.59882, saving model to /Users/kael/Codes/ml/tensorflow-2-DA-RNN/notebook/checkpoint.hdf5\n",
      "Epoch 10/100\n",
      "125/125 [==============================] - 7s 57ms/step - loss: 3563.1456 - accuracy: 0.0000e+00 - mae: 51.6819 - mape: 1.0970 - val_loss: 445.4039 - val_accuracy: 0.0000e+00 - val_mae: 16.8202 - val_mape: 0.3502\n",
      "\n",
      "Epoch 00010: val_loss improved from 819.59882 to 445.40393, saving model to /Users/kael/Codes/ml/tensorflow-2-DA-RNN/notebook/checkpoint.hdf5\n",
      "Epoch 11/100\n",
      "125/125 [==============================] - 7s 57ms/step - loss: 4296.2588 - accuracy: 0.0000e+00 - mae: 56.7360 - mape: 1.2048 - val_loss: 372.4380 - val_accuracy: 0.0000e+00 - val_mae: 15.6887 - val_mape: 0.3267\n",
      "\n",
      "Epoch 00011: val_loss improved from 445.40393 to 372.43799, saving model to /Users/kael/Codes/ml/tensorflow-2-DA-RNN/notebook/checkpoint.hdf5\n",
      "Epoch 12/100\n",
      "125/125 [==============================] - 7s 58ms/step - loss: 4528.5348 - accuracy: 0.0000e+00 - mae: 58.1321 - mape: 1.2346 - val_loss: 344.1637 - val_accuracy: 0.0000e+00 - val_mae: 15.2187 - val_mape: 0.3170\n",
      "\n",
      "Epoch 00012: val_loss improved from 372.43799 to 344.16373, saving model to /Users/kael/Codes/ml/tensorflow-2-DA-RNN/notebook/checkpoint.hdf5\n",
      "Epoch 13/100\n",
      "125/125 [==============================] - 7s 53ms/step - loss: 4631.7862 - accuracy: 0.0000e+00 - mae: 58.6575 - mape: 1.2458 - val_loss: 324.7655 - val_accuracy: 0.0000e+00 - val_mae: 14.8709 - val_mape: 0.3098\n",
      "\n",
      "Epoch 00013: val_loss improved from 344.16373 to 324.76550, saving model to /Users/kael/Codes/ml/tensorflow-2-DA-RNN/notebook/checkpoint.hdf5\n",
      "Epoch 14/100\n",
      "125/125 [==============================] - 7s 57ms/step - loss: 4711.0036 - accuracy: 0.0000e+00 - mae: 59.0071 - mape: 1.2533 - val_loss: 308.5706 - val_accuracy: 0.0000e+00 - val_mae: 14.5708 - val_mape: 0.3036\n",
      "\n",
      "Epoch 00014: val_loss improved from 324.76550 to 308.57062, saving model to /Users/kael/Codes/ml/tensorflow-2-DA-RNN/notebook/checkpoint.hdf5\n",
      "Epoch 15/100\n",
      "125/125 [==============================] - 7s 60ms/step - loss: 4788.3086 - accuracy: 0.0000e+00 - mae: 59.3143 - mape: 1.2598 - val_loss: 295.3845 - val_accuracy: 0.0000e+00 - val_mae: 14.3179 - val_mape: 0.2984\n",
      "\n",
      "Epoch 00015: val_loss improved from 308.57062 to 295.38446, saving model to /Users/kael/Codes/ml/tensorflow-2-DA-RNN/notebook/checkpoint.hdf5\n"
     ]
    }
   ],
   "source": [
    "save_to = dirname / 'checkpoint.hdf5'\n",
    "\n",
    "history = model.fit(\n",
    "    train_ds,\n",
    "    validation_data=val_ds,\n",
    "    callbacks=[\n",
    "        # Save checkpoints on best validation loss\n",
    "        tf.keras.callbacks.ModelCheckpoint(\n",
    "            save_to,\n",
    "            monitor='val_loss',\n",
    "            save_best_only=True,\n",
    "            verbose=1\n",
    "        ),\n",
    "        # Stop early if the model overfits\n",
    "        tf.keras.callbacks.EarlyStopping(monitor='loss', patience=5)\n",
    "    ],\n",
    "    epochs=EPOCHS,\n",
    "    verbose=1\n",
    ")"
   ]
  },
  {
   "cell_type": "code",
   "execution_count": 9,
   "id": "coral-banking",
   "metadata": {},
   "outputs": [
    {
     "data": {
      "image/png": "[encoded data removed]",
      "text/plain": [
       "<Figure size 432x288 with 1 Axes>"
      ]
     },
     "metadata": {
      "needs_background": "light"
     },
     "output_type": "display_data"
    },
    {
     "data": {
      "image/png": "[encoded data removed]",
      "text/plain": [
       "<Figure size 432x288 with 1 Axes>"
      ]
     },
     "metadata": {
      "needs_background": "light"
     },
     "output_type": "display_data"
    }
   ],
   "source": [
    "import matplotlib.pyplot as plt\n",
    "\n",
    "\n",
    "def plot(keys, title='title', ylabel='y'):\n",
    "    for key in keys:\n",
    "        plt.plot(history.history[key])\n",
    "        plt.plot(history.history[key])\n",
    "        \n",
    "    plt.title(title)\n",
    "    plt.ylabel(ylabel)\n",
    "    plt.xlabel('epoch')\n",
    "    \n",
    "    plt.legend(keys, loc='upper left')\n",
    "    \n",
    "    plt.show()\n",
    "    \n",
    "plot(['loss', 'val_loss'], 'loss')\n",
    "plot(['accuracy', 'val_accuracy'], 'acc')\n"
   ]
  },
  {
   "cell_type": "code",
   "execution_count": null,
   "id": "sitting-threshold",
   "metadata": {},
   "outputs": [],
   "source": []
  }
 ],
 "metadata": {
  "kernelspec": {
   "display_name": "strategy",
   "language": "python",
   "name": "strategy"
  },
  "language_info": {
   "codemirror_mode": {
    "name": "ipython",
    "version": 3
   },
   "file_extension": ".py",
   "mimetype": "text/x-python",
   "name": "python",
   "nbconvert_exporter": "python",
   "pygments_lexer": "ipython3",
   "version": "3.8.5"
  }
 },
 "nbformat": 4,
 "nbformat_minor": 5
}
